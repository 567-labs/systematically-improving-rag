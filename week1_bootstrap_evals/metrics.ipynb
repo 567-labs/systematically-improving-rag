{
 "cells": [
  {
   "cell_type": "markdown",
   "metadata": {},
   "source": [
    "# Context\n",
    "\n",
    "In `make_synthetic_questions.ipynb`, we generated synthetic questions to bootstrap evaluation of the retrieval system in our hardware store's Q&A system.\n",
    "\n",
    "This notebook shows the first step in calculating precision and recall with different retrieval parameters. We will run more advanced experiments in future notebooks after we have these baseline scores.\n",
    "\n",
    "## Data\n",
    "\n",
    "Here is a brief review of the data."
   ]
  },
  {
   "cell_type": "code",
   "execution_count": 1,
   "metadata": {},
   "outputs": [
    {
     "data": {
      "text/html": [
       "<div>\n",
       "<style scoped>\n",
       "    .dataframe tbody tr th:only-of-type {\n",
       "        vertical-align: middle;\n",
       "    }\n",
       "\n",
       "    .dataframe tbody tr th {\n",
       "        vertical-align: top;\n",
       "    }\n",
       "\n",
       "    .dataframe thead th {\n",
       "        text-align: right;\n",
       "    }\n",
       "</style>\n",
       "<table border=\"1\" class=\"dataframe\">\n",
       "  <thead>\n",
       "    <tr style=\"text-align: right;\">\n",
       "      <th></th>\n",
       "      <th>id</th>\n",
       "      <th>product_title</th>\n",
       "      <th>product_description</th>\n",
       "      <th>review</th>\n",
       "      <th>vector</th>\n",
       "    </tr>\n",
       "  </thead>\n",
       "  <tbody>\n",
       "    <tr>\n",
       "      <th>0</th>\n",
       "      <td>0</td>\n",
       "      <td>Hammer</td>\n",
       "      <td>This 16 oz claw hammer is perfect for general carpentry and DIY projects. It features a comfortable grip and a durable steel head.</td>\n",
       "      <td>I've been using this hammer for a few months now, and it's become my go-to tool for all my DIY projects. The 16 oz weight is perfect for driving nails witho...</td>\n",
       "      <td>[0.026041072, 0.04662072, 0.003556133, -0.014435542, 0.029466875, -0.014013522, -0.021647107, 0.005734497, 0.015900197, -0.013504617, 0.021088552, -0.021051...</td>\n",
       "    </tr>\n",
       "    <tr>\n",
       "      <th>1</th>\n",
       "      <td>1</td>\n",
       "      <td>Hammer</td>\n",
       "      <td>This 16 oz claw hammer is perfect for general carpentry and DIY projects. It features a comfortable grip and a durable steel head.</td>\n",
       "      <td>This hammer is a solid addition to my toolbox. The balance between the handle and the head makes it easy to control, and the 16 oz weight is just right for ...</td>\n",
       "      <td>[0.026080444, 0.04409138, 0.008676617, 0.010105856, 0.017947696, 0.0021928695, -0.037514355, 0.0035130181, 0.024208521, -0.020034637, 0.020540563, -0.048670...</td>\n",
       "    </tr>\n",
       "    <tr>\n",
       "      <th>2</th>\n",
       "      <td>2</td>\n",
       "      <td>Hammer</td>\n",
       "      <td>This 16 oz claw hammer is perfect for general carpentry and DIY projects. It features a comfortable grip and a durable steel head.</td>\n",
       "      <td>I purchased this hammer for some home renovation work, and it has exceeded my expectations. The steel head is tough and has withstood a lot of heavy use wit...</td>\n",
       "      <td>[0.03338692, 0.02774543, 0.0019985342, 0.0033709116, -0.005106521, -0.029180119, -0.030395957, 0.009209975, 0.05053024, -0.03496751, 0.05111384, -0.01512502...</td>\n",
       "    </tr>\n",
       "    <tr>\n",
       "      <th>3</th>\n",
       "      <td>3</td>\n",
       "      <td>Hammer</td>\n",
       "      <td>This 16 oz claw hammer is perfect for general carpentry and DIY projects. It features a comfortable grip and a durable steel head.</td>\n",
       "      <td>As a professional carpenter, I rely on my tools daily, and this hammer has not disappointed. The 16 oz weight is perfect for driving nails quickly and effic...</td>\n",
       "      <td>[0.02476854, 0.05620057, 0.022624861, -0.0050912397, 0.020209994, -0.014205107, -0.030089, 0.01576767, 0.015677273, -0.020804025, 0.02534966, -0.02673143, -...</td>\n",
       "    </tr>\n",
       "    <tr>\n",
       "      <th>4</th>\n",
       "      <td>4</td>\n",
       "      <td>Hammer</td>\n",
       "      <td>This 16 oz claw hammer is perfect for general carpentry and DIY projects. It features a comfortable grip and a durable steel head.</td>\n",
       "      <td>This hammer is a great value for the price. The 16 oz weight is perfect for general carpentry and DIY projects. The grip is comfortable and doesn't slip, ev...</td>\n",
       "      <td>[0.028411018, 0.0551858, -0.0011977376, -0.008559253, 0.033493266, 0.0071027544, -0.03272473, 0.025956662, 0.021209097, -0.035823666, 0.033493266, -0.019560...</td>\n",
       "    </tr>\n",
       "  </tbody>\n",
       "</table>\n",
       "</div>"
      ],
      "text/plain": [
       "  id product_title  \\\n",
       "0  0        Hammer   \n",
       "1  1        Hammer   \n",
       "2  2        Hammer   \n",
       "3  3        Hammer   \n",
       "4  4        Hammer   \n",
       "\n",
       "                                                                                                                  product_description  \\\n",
       "0  This 16 oz claw hammer is perfect for general carpentry and DIY projects. It features a comfortable grip and a durable steel head.   \n",
       "1  This 16 oz claw hammer is perfect for general carpentry and DIY projects. It features a comfortable grip and a durable steel head.   \n",
       "2  This 16 oz claw hammer is perfect for general carpentry and DIY projects. It features a comfortable grip and a durable steel head.   \n",
       "3  This 16 oz claw hammer is perfect for general carpentry and DIY projects. It features a comfortable grip and a durable steel head.   \n",
       "4  This 16 oz claw hammer is perfect for general carpentry and DIY projects. It features a comfortable grip and a durable steel head.   \n",
       "\n",
       "                                                                                                                                                            review  \\\n",
       "0  I've been using this hammer for a few months now, and it's become my go-to tool for all my DIY projects. The 16 oz weight is perfect for driving nails witho...   \n",
       "1  This hammer is a solid addition to my toolbox. The balance between the handle and the head makes it easy to control, and the 16 oz weight is just right for ...   \n",
       "2  I purchased this hammer for some home renovation work, and it has exceeded my expectations. The steel head is tough and has withstood a lot of heavy use wit...   \n",
       "3  As a professional carpenter, I rely on my tools daily, and this hammer has not disappointed. The 16 oz weight is perfect for driving nails quickly and effic...   \n",
       "4  This hammer is a great value for the price. The 16 oz weight is perfect for general carpentry and DIY projects. The grip is comfortable and doesn't slip, ev...   \n",
       "\n",
       "                                                                                                                                                            vector  \n",
       "0  [0.026041072, 0.04662072, 0.003556133, -0.014435542, 0.029466875, -0.014013522, -0.021647107, 0.005734497, 0.015900197, -0.013504617, 0.021088552, -0.021051...  \n",
       "1  [0.026080444, 0.04409138, 0.008676617, 0.010105856, 0.017947696, 0.0021928695, -0.037514355, 0.0035130181, 0.024208521, -0.020034637, 0.020540563, -0.048670...  \n",
       "2  [0.03338692, 0.02774543, 0.0019985342, 0.0033709116, -0.005106521, -0.029180119, -0.030395957, 0.009209975, 0.05053024, -0.03496751, 0.05111384, -0.01512502...  \n",
       "3  [0.02476854, 0.05620057, 0.022624861, -0.0050912397, 0.020209994, -0.014205107, -0.030089, 0.01576767, 0.015677273, -0.020804025, 0.02534966, -0.02673143, -...  \n",
       "4  [0.028411018, 0.0551858, -0.0011977376, -0.008559253, 0.033493266, 0.0071027544, -0.03272473, 0.025956662, 0.021209097, -0.035823666, 0.033493266, -0.019560...  "
      ]
     },
     "execution_count": 1,
     "metadata": {},
     "output_type": "execute_result"
    }
   ],
   "source": [
    "import json\n",
    "import lancedb\n",
    "import os\n",
    "import pandas as pd\n",
    "from typing import List, Dict\n",
    "from concurrent.futures import ThreadPoolExecutor\n",
    "\n",
    "pd.set_option(\"display.max_colwidth\", 160)\n",
    "\n",
    "db = lancedb.connect(\"./lancedb\")\n",
    "reviews_table = db.open_table(\"reviews\")\n",
    "reviews_table.to_pandas().head()"
   ]
  },
  {
   "cell_type": "code",
   "execution_count": 2,
   "metadata": {},
   "outputs": [
    {
     "data": {
      "text/plain": [
       "[{'question': 'How heavy is this hammer and is it good for driving nails?',\n",
       "  'answer': 'The hammer weighs 16 oz, which is perfect for driving nails without too much effort.',\n",
       "  'chunk_id': '0'},\n",
       " {'question': 'Is the grip comfortable for long use?',\n",
       "  'answer': \"Yes, the grip is comfortable even during extended use, and there hasn't been any noticeable wear on it.\",\n",
       "  'chunk_id': '0'},\n",
       " {'question': 'How does the hammer feel in terms of balance and control?',\n",
       "  'answer': 'The balance between the handle and the head makes it easy to control.',\n",
       "  'chunk_id': '1'},\n",
       " {'question': 'Is the grip comfortable for long use?',\n",
       "  'answer': 'The grip is ergonomic and reduces hand fatigue, which is a big plus during long projects.',\n",
       "  'chunk_id': '1'},\n",
       " {'question': \"How durable is the hammer's steel head?\",\n",
       "  'answer': 'The steel head is tough and has withstood a lot of heavy use without any dents or chips.',\n",
       "  'chunk_id': '2'}]"
      ]
     },
     "execution_count": 2,
     "metadata": {},
     "output_type": "execute_result"
    }
   ],
   "source": [
    "with open(\"synthetic_eval_dataset.json\", \"r\") as f:\n",
    "    synthetic_questions = json.load(f)\n",
    "synthetic_questions[:5]"
   ]
  },
  {
   "cell_type": "markdown",
   "metadata": {},
   "source": [
    "## Set Up Evaluation\n",
    "\n",
    "Load the evaluation questions into a structured format."
   ]
  },
  {
   "cell_type": "code",
   "execution_count": 3,
   "metadata": {},
   "outputs": [],
   "source": [
    "from pydantic import BaseModel\n",
    "\n",
    "\n",
    "class EvalQuestion(BaseModel):\n",
    "    question: str\n",
    "    answer: str\n",
    "    chunk_id: str\n",
    "\n",
    "\n",
    "eval_questions = [EvalQuestion(**question) for question in synthetic_questions]"
   ]
  },
  {
   "cell_type": "markdown",
   "metadata": {},
   "source": [
    "Build a simple search function"
   ]
  },
  {
   "cell_type": "code",
   "execution_count": 4,
   "metadata": {},
   "outputs": [],
   "source": [
    "def run_simple_request(q: EvalQuestion, n_return_vals=5):\n",
    "    results = (\n",
    "        reviews_table.search(q.question).select([\"id\"]).limit(n_return_vals).to_list()\n",
    "    )\n",
    "    return [str(q.chunk_id) == str(r[\"id\"]) for r in results]"
   ]
  },
  {
   "cell_type": "markdown",
   "metadata": {},
   "source": [
    "Now do the benchmarking. For simplicity, we just compare retrieval sizes with a simple semantic search in this cell."
   ]
  },
  {
   "cell_type": "code",
   "execution_count": 5,
   "metadata": {},
   "outputs": [
    {
     "data": {
      "text/html": [
       "<div>\n",
       "<style scoped>\n",
       "    .dataframe tbody tr th:only-of-type {\n",
       "        vertical-align: middle;\n",
       "    }\n",
       "\n",
       "    .dataframe tbody tr th {\n",
       "        vertical-align: top;\n",
       "    }\n",
       "\n",
       "    .dataframe thead th {\n",
       "        text-align: right;\n",
       "    }\n",
       "</style>\n",
       "<table border=\"1\" class=\"dataframe\">\n",
       "  <thead>\n",
       "    <tr style=\"text-align: right;\">\n",
       "      <th></th>\n",
       "      <th>precision</th>\n",
       "      <th>recall</th>\n",
       "      <th>n_retrieved</th>\n",
       "    </tr>\n",
       "  </thead>\n",
       "  <tbody>\n",
       "    <tr>\n",
       "      <th>0</th>\n",
       "      <td>0.082889</td>\n",
       "      <td>0.414444</td>\n",
       "      <td>5</td>\n",
       "    </tr>\n",
       "    <tr>\n",
       "      <th>1</th>\n",
       "      <td>0.063500</td>\n",
       "      <td>0.635000</td>\n",
       "      <td>10</td>\n",
       "    </tr>\n",
       "    <tr>\n",
       "      <th>2</th>\n",
       "      <td>0.041972</td>\n",
       "      <td>0.839444</td>\n",
       "      <td>20</td>\n",
       "    </tr>\n",
       "  </tbody>\n",
       "</table>\n",
       "</div>"
      ],
      "text/plain": [
       "   precision    recall  n_retrieved\n",
       "0   0.082889  0.414444            5\n",
       "1   0.063500  0.635000           10\n",
       "2   0.041972  0.839444           20"
      ]
     },
     "execution_count": 5,
     "metadata": {},
     "output_type": "execute_result"
    }
   ],
   "source": [
    "def score(hits):\n",
    "    n_retrieval_requests = len(hits)\n",
    "    total_retrievals = sum(len(l) for l in hits)\n",
    "    true_positives = sum(sum(sublist) for sublist in hits)\n",
    "    precision = true_positives / total_retrievals if total_retrievals > 0 else 0\n",
    "    recall = true_positives / n_retrieval_requests if n_retrieval_requests > 0 else 0\n",
    "    return {\"precision\": precision, \"recall\": recall}\n",
    "\n",
    "\n",
    "def score_simple_search(n_to_retrieve: List[int]) -> Dict[str, float]:\n",
    "    # parallelize to speed this up 5-10X\n",
    "    with ThreadPoolExecutor() as executor:\n",
    "        hits = list(\n",
    "            executor.map(lambda q: run_simple_request(q, n_to_retrieve), eval_questions)\n",
    "        )\n",
    "    return score(hits)\n",
    "\n",
    "\n",
    "k_to_retrieve = [5, 10, 20]\n",
    "scores = pd.DataFrame([score_simple_search(n) for n in k_to_retrieve])\n",
    "scores[\"n_retrieved\"] = k_to_retrieve\n",
    "scores"
   ]
  },
  {
   "cell_type": "markdown",
   "metadata": {},
   "source": [
    "If you have Cohere set up, you can see uf a reranker improves results (we'll talk more about rerankers in the coming weeks)."
   ]
  },
  {
   "cell_type": "code",
   "execution_count": 6,
   "metadata": {},
   "outputs": [
    {
     "name": "stdout",
     "output_type": "stream",
     "text": [
      "   precision    recall  n_retrieved\n",
      "0   0.115667  0.578333            5\n",
      "1   0.080778  0.807778           10\n",
      "2   0.046111  0.922222           20\n"
     ]
    }
   ],
   "source": [
    "try:\n",
    "    import cohere\n",
    "    from diskcache import Cache\n",
    "    cohere_api_key = os.environ[\"COHERE_API_KEY\"]\n",
    "\n",
    "    # Use diskcache to reduce re-running in case of error (or addition of new data)\n",
    "    cache = Cache(\"./cohere_cache\")\n",
    "    \n",
    "    def run_reranked_request(q: EvalQuestion, n_return_vals=5, n_to_rerank=40) -> List[bool]:\n",
    "        # First, get more results than we need\n",
    "        initial_results = reviews_table.search(q.question) \\\n",
    "            .select([\"id\", \"review\"]) \\\n",
    "            .limit(n_to_rerank) \\\n",
    "            .to_list()\n",
    "        \n",
    "        # Prepare texts for reranking\n",
    "        texts = [r[\"review\"] for r in initial_results]\n",
    "        \n",
    "        cache_key = f\"{q.question}_{n_return_vals}\".replace(\"?\", \"\")\n",
    "        # Try to get the result from cache\n",
    "        cached_result = cache.get(cache_key)\n",
    "        if cached_result is not None:\n",
    "            return cached_result\n",
    "        \n",
    "        # Rerank using Cohere\n",
    "        co = cohere.Client(cohere_api_key)\n",
    "        reranked = co.rerank(\n",
    "            query=q.question,\n",
    "            documents=texts,\n",
    "            top_n=n_return_vals\n",
    "        )\n",
    "        \n",
    "        # Map reranked results back to original IDs\n",
    "        reranked_ids = [initial_results[r.index][\"id\"] for r in reranked.results]\n",
    "        result = [str(q.chunk_id) == str(r) for r in reranked_ids]\n",
    "        cache.set(cache_key, result)\n",
    "        return result\n",
    "\n",
    "    def score_reranked_search(n_to_retrieve: List[int], n_to_rerank: int = 40) -> Dict[str, float]:\n",
    "        with ThreadPoolExecutor() as executor:\n",
    "            hits = list(executor.map(\n",
    "                lambda q: run_reranked_request(q, n_to_retrieve, n_to_rerank), \n",
    "                eval_questions\n",
    "            ))\n",
    "        return score(hits)\n",
    "\n",
    "    k_to_retrieve = [5, 10, 20]\n",
    "    reranked_scores = pd.DataFrame([score_reranked_search(n) for n in k_to_retrieve])\n",
    "    reranked_scores[\"n_retrieved\"] = k_to_retrieve\n",
    "    print(reranked_scores)\n",
    "except Exception as e:\n",
    "    print(f\"Could not run reranker.\\n{e}\")\n",
    "    print(\"Ensure COHERE_API_KEY env is set... and cohere library diskcache are installed.\")\n",
    "    print(\"Connection reset by peer is likely rate limiting from Cohere\")"
   ]
  }
 ],
 "metadata": {
  "kernelspec": {
   "display_name": "cadquery",
   "language": "python",
   "name": "cadquery"
  },
  "language_info": {
   "codemirror_mode": {
    "name": "ipython",
    "version": 3
   },
   "file_extension": ".py",
   "mimetype": "text/x-python",
   "name": "python",
   "nbconvert_exporter": "python",
   "pygments_lexer": "ipython3",
   "version": "3.10.0"
  }
 },
 "nbformat": 4,
 "nbformat_minor": 2
}
