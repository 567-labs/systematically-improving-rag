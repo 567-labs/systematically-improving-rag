{
 "cells": [
  {
   "cell_type": "markdown",
   "metadata": {},
   "source": [
    "# Context\n",
    "\n",
    "In `make_synthetic_questions.ipynb`, we generated synthetic questions to bootstrap evaluation of the retrieval system in our hardware store's Q&A system.\n",
    "\n",
    "This notebook shows the first step in calculating precision and recall with different retrieval parameters. We will run more advanced experiments in future notebooks after we have these baseline scores.\n",
    "\n",
    "## Data\n",
    "\n",
    "Here is a brief review of the data."
   ]
  },
  {
   "cell_type": "code",
   "execution_count": 1,
   "metadata": {},
   "outputs": [
    {
     "data": {
      "text/html": [
       "<div>\n",
       "<style scoped>\n",
       "    .dataframe tbody tr th:only-of-type {\n",
       "        vertical-align: middle;\n",
       "    }\n",
       "\n",
       "    .dataframe tbody tr th {\n",
       "        vertical-align: top;\n",
       "    }\n",
       "\n",
       "    .dataframe thead th {\n",
       "        text-align: right;\n",
       "    }\n",
       "</style>\n",
       "<table border=\"1\" class=\"dataframe\">\n",
       "  <thead>\n",
       "    <tr style=\"text-align: right;\">\n",
       "      <th></th>\n",
       "      <th>id</th>\n",
       "      <th>product_title</th>\n",
       "      <th>product_description</th>\n",
       "      <th>review</th>\n",
       "      <th>vector</th>\n",
       "    </tr>\n",
       "  </thead>\n",
       "  <tbody>\n",
       "    <tr>\n",
       "      <th>0</th>\n",
       "      <td>0</td>\n",
       "      <td>Cordless Drill</td>\n",
       "      <td>This powerful cordless drill features a lightweight design and a 2-speed transmission, allowing you to tackle various tasks with ease. Ideal for both profes...</td>\n",
       "      <td>I've owned several cordless drills over the years, but this one is exceptional. It is lightweight, making it easy to use for extended periods without fatigu...</td>\n",
       "      <td>[0.012451614, 0.009677136, -0.013976053, -0.02875701, 0.017634707, 0.0003763458, -0.01216502, 0.0825392, 0.03673287, -0.021500682, 0.023537332, 0.03043999, ...</td>\n",
       "    </tr>\n",
       "    <tr>\n",
       "      <th>1</th>\n",
       "      <td>1</td>\n",
       "      <td>Cordless Drill</td>\n",
       "      <td>This powerful cordless drill features a lightweight design and a 2-speed transmission, allowing you to tackle various tasks with ease. Ideal for both profes...</td>\n",
       "      <td>As a professional contractor, I rely on my tools every day. This cordless drill has exceeded my expectations with its powerful motor and ergonomic design. T...</td>\n",
       "      <td>[0.028722303, -0.00047558517, -0.0009903691, -0.019788183, 0.018789813, 0.0009975688, -0.035096504, 0.07188256, 0.015909903, -0.010137284, 0.028875899, -0.0...</td>\n",
       "    </tr>\n",
       "    <tr>\n",
       "      <th>2</th>\n",
       "      <td>2</td>\n",
       "      <td>Cordless Drill</td>\n",
       "      <td>This powerful cordless drill features a lightweight design and a 2-speed transmission, allowing you to tackle various tasks with ease. Ideal for both profes...</td>\n",
       "      <td>I'm a DIY enthusiast and bought this cordless drill for home projects. It's perfect for everything from hanging shelves to assembling furniture. The drill i...</td>\n",
       "      <td>[-0.011681931, 0.0018038707, -0.02288322, -0.030081118, 0.042812254, 0.0008550435, -0.035051655, 0.07488628, 0.0060666325, 0.0003996797, 0.019682853, 0.0155...</td>\n",
       "    </tr>\n",
       "    <tr>\n",
       "      <th>3</th>\n",
       "      <td>3</td>\n",
       "      <td>Cordless Drill</td>\n",
       "      <td>This powerful cordless drill features a lightweight design and a 2-speed transmission, allowing you to tackle various tasks with ease. Ideal for both profes...</td>\n",
       "      <td>After using this cordless drill for several months, I can confidently say it's one of the best I've owned. The lightweight design makes it comfortable to us...</td>\n",
       "      <td>[0.018682713, 0.02133356, -0.0092318645, -0.031441357, 0.02241695, 0.0017821187, 0.0009205933, 0.06265221, 0.05357017, 0.0011827967, 0.046009492, 0.00949118...</td>\n",
       "    </tr>\n",
       "    <tr>\n",
       "      <th>4</th>\n",
       "      <td>4</td>\n",
       "      <td>Cordless Drill</td>\n",
       "      <td>This powerful cordless drill features a lightweight design and a 2-speed transmission, allowing you to tackle various tasks with ease. Ideal for both profes...</td>\n",
       "      <td>This cordless drill has become my go-to tool for all my DIY projects. The lightweight design reduces strain on my wrist, and the 2-speed transmission is inc...</td>\n",
       "      <td>[0.016187381, 0.004412105, -0.019909551, -0.01881957, 0.019747214, -0.013334877, -0.027829308, 0.060018543, 0.0031047072, -0.008151668, 0.006702225, 0.02581...</td>\n",
       "    </tr>\n",
       "  </tbody>\n",
       "</table>\n",
       "</div>"
      ],
      "text/plain": [
       "  id   product_title  \\\n",
       "0  0  Cordless Drill   \n",
       "1  1  Cordless Drill   \n",
       "2  2  Cordless Drill   \n",
       "3  3  Cordless Drill   \n",
       "4  4  Cordless Drill   \n",
       "\n",
       "                                                                                                                                               product_description  \\\n",
       "0  This powerful cordless drill features a lightweight design and a 2-speed transmission, allowing you to tackle various tasks with ease. Ideal for both profes...   \n",
       "1  This powerful cordless drill features a lightweight design and a 2-speed transmission, allowing you to tackle various tasks with ease. Ideal for both profes...   \n",
       "2  This powerful cordless drill features a lightweight design and a 2-speed transmission, allowing you to tackle various tasks with ease. Ideal for both profes...   \n",
       "3  This powerful cordless drill features a lightweight design and a 2-speed transmission, allowing you to tackle various tasks with ease. Ideal for both profes...   \n",
       "4  This powerful cordless drill features a lightweight design and a 2-speed transmission, allowing you to tackle various tasks with ease. Ideal for both profes...   \n",
       "\n",
       "                                                                                                                                                            review  \\\n",
       "0  I've owned several cordless drills over the years, but this one is exceptional. It is lightweight, making it easy to use for extended periods without fatigu...   \n",
       "1  As a professional contractor, I rely on my tools every day. This cordless drill has exceeded my expectations with its powerful motor and ergonomic design. T...   \n",
       "2  I'm a DIY enthusiast and bought this cordless drill for home projects. It's perfect for everything from hanging shelves to assembling furniture. The drill i...   \n",
       "3  After using this cordless drill for several months, I can confidently say it's one of the best I've owned. The lightweight design makes it comfortable to us...   \n",
       "4  This cordless drill has become my go-to tool for all my DIY projects. The lightweight design reduces strain on my wrist, and the 2-speed transmission is inc...   \n",
       "\n",
       "                                                                                                                                                            vector  \n",
       "0  [0.012451614, 0.009677136, -0.013976053, -0.02875701, 0.017634707, 0.0003763458, -0.01216502, 0.0825392, 0.03673287, -0.021500682, 0.023537332, 0.03043999, ...  \n",
       "1  [0.028722303, -0.00047558517, -0.0009903691, -0.019788183, 0.018789813, 0.0009975688, -0.035096504, 0.07188256, 0.015909903, -0.010137284, 0.028875899, -0.0...  \n",
       "2  [-0.011681931, 0.0018038707, -0.02288322, -0.030081118, 0.042812254, 0.0008550435, -0.035051655, 0.07488628, 0.0060666325, 0.0003996797, 0.019682853, 0.0155...  \n",
       "3  [0.018682713, 0.02133356, -0.0092318645, -0.031441357, 0.02241695, 0.0017821187, 0.0009205933, 0.06265221, 0.05357017, 0.0011827967, 0.046009492, 0.00949118...  \n",
       "4  [0.016187381, 0.004412105, -0.019909551, -0.01881957, 0.019747214, -0.013334877, -0.027829308, 0.060018543, 0.0031047072, -0.008151668, 0.006702225, 0.02581...  "
      ]
     },
     "execution_count": 1,
     "metadata": {},
     "output_type": "execute_result"
    }
   ],
   "source": [
    "import json\n",
    "import lancedb\n",
    "import os\n",
    "import pandas as pd\n",
    "from typing import List, Dict\n",
    "from concurrent.futures import ThreadPoolExecutor\n",
    "\n",
    "pd.set_option(\"display.max_colwidth\", 160)\n",
    "\n",
    "db = lancedb.connect(\"./lancedb\")\n",
    "reviews_table = db.open_table(\"reviews\")\n",
    "reviews_table.to_pandas().head()"
   ]
  },
  {
   "cell_type": "code",
   "execution_count": 2,
   "metadata": {},
   "outputs": [
    {
     "data": {
      "text/plain": [
       "[{'question': 'How good is the battery life on this cordless drill?',\n",
       "  'answer': 'It comes with two included batteries, ensuring that you never run out of power on the job.',\n",
       "  'chunk_id': '0'},\n",
       " {'question': 'Is this cordless drill easy to handle for long tasks?',\n",
       "  'answer': 'Yes, its lightweight design makes it easy to use for extended periods without fatigue.',\n",
       "  'chunk_id': '0'},\n",
       " {'question': 'How powerful is the motor in this cordless drill?',\n",
       "  'answer': 'The cordless drill features a powerful motor that exceeds expectations for professional use.',\n",
       "  'chunk_id': '1'},\n",
       " {'question': 'What design features make this drill suitable for overhead tasks?',\n",
       "  'answer': 'The cordless drill has a lightweight design and ergonomic build, making it perfect for overhead tasks.',\n",
       "  'chunk_id': '1'},\n",
       " {'question': 'How durable are the batteries for this cordless drill?',\n",
       "  'answer': 'The batteries charge quickly and last a long time, which is a huge plus.',\n",
       "  'chunk_id': '2'}]"
      ]
     },
     "execution_count": 2,
     "metadata": {},
     "output_type": "execute_result"
    }
   ],
   "source": [
    "with open(\"synthetic_eval_dataset.json\", \"r\") as f:\n",
    "    synthetic_questions = json.load(f)\n",
    "synthetic_questions[:5]"
   ]
  },
  {
   "cell_type": "markdown",
   "metadata": {},
   "source": [
    "## Set Up Evaluation\n",
    "\n",
    "Load the evaluation questions into a structured format."
   ]
  },
  {
   "cell_type": "code",
   "execution_count": 3,
   "metadata": {},
   "outputs": [],
   "source": [
    "from pydantic import BaseModel\n",
    "\n",
    "\n",
    "class EvalQuestion(BaseModel):\n",
    "    question: str\n",
    "    answer: str\n",
    "    chunk_id: str\n",
    "\n",
    "\n",
    "eval_questions = [EvalQuestion(**question) for question in synthetic_questions]"
   ]
  },
  {
   "cell_type": "markdown",
   "metadata": {},
   "source": [
    "Build a simple search function"
   ]
  },
  {
   "cell_type": "code",
   "execution_count": 4,
   "metadata": {},
   "outputs": [],
   "source": [
    "def run_simple_request(q: EvalQuestion, n_return_vals=5):\n",
    "    results = (\n",
    "        reviews_table.search(q.question).select([\"id\"]).limit(n_return_vals).to_list()\n",
    "    )\n",
    "    return [str(q.chunk_id) == str(r[\"id\"]) for r in results]"
   ]
  },
  {
   "cell_type": "markdown",
   "metadata": {},
   "source": [
    "Now do the benchmarking. For simplicity, we just compare retrieval sizes with a simple semantic search in this cell."
   ]
  },
  {
   "cell_type": "code",
   "execution_count": 5,
   "metadata": {},
   "outputs": [
    {
     "data": {
      "text/html": [
       "<div>\n",
       "<style scoped>\n",
       "    .dataframe tbody tr th:only-of-type {\n",
       "        vertical-align: middle;\n",
       "    }\n",
       "\n",
       "    .dataframe tbody tr th {\n",
       "        vertical-align: top;\n",
       "    }\n",
       "\n",
       "    .dataframe thead th {\n",
       "        text-align: right;\n",
       "    }\n",
       "</style>\n",
       "<table border=\"1\" class=\"dataframe\">\n",
       "  <thead>\n",
       "    <tr style=\"text-align: right;\">\n",
       "      <th></th>\n",
       "      <th>precision</th>\n",
       "      <th>recall</th>\n",
       "      <th>n_retrieved</th>\n",
       "    </tr>\n",
       "  </thead>\n",
       "  <tbody>\n",
       "    <tr>\n",
       "      <th>0</th>\n",
       "      <td>0.101410</td>\n",
       "      <td>0.507048</td>\n",
       "      <td>5</td>\n",
       "    </tr>\n",
       "    <tr>\n",
       "      <th>1</th>\n",
       "      <td>0.070749</td>\n",
       "      <td>0.707489</td>\n",
       "      <td>10</td>\n",
       "    </tr>\n",
       "    <tr>\n",
       "      <th>2</th>\n",
       "      <td>0.044361</td>\n",
       "      <td>0.887225</td>\n",
       "      <td>20</td>\n",
       "    </tr>\n",
       "  </tbody>\n",
       "</table>\n",
       "</div>"
      ],
      "text/plain": [
       "   precision    recall  n_retrieved\n",
       "0   0.101410  0.507048            5\n",
       "1   0.070749  0.707489           10\n",
       "2   0.044361  0.887225           20"
      ]
     },
     "execution_count": 5,
     "metadata": {},
     "output_type": "execute_result"
    }
   ],
   "source": [
    "def score(hits):\n",
    "    # This implementation assumes\n",
    "    n_retrieval_requests = len(hits)\n",
    "    total_retrievals = sum(len(l) for l in hits)\n",
    "    true_positives = sum(sum(sublist) for sublist in hits)\n",
    "    precision = true_positives / total_retrievals if total_retrievals > 0 else 0\n",
    "    recall = true_positives / n_retrieval_requests if n_retrieval_requests > 0 else 0\n",
    "    return {\"precision\": precision, \"recall\": recall}\n",
    "\n",
    "\n",
    "def score_simple_search(n_to_retrieve: List[int]) -> Dict[str, float]:\n",
    "    # parallelize to speed this up 5-10X\n",
    "    with ThreadPoolExecutor() as executor:\n",
    "        hits = list(\n",
    "            executor.map(lambda q: run_simple_request(q, n_to_retrieve), eval_questions)\n",
    "        )\n",
    "    return score(hits)\n",
    "\n",
    "\n",
    "k_to_retrieve = [5, 10, 20]\n",
    "scores = pd.DataFrame([score_simple_search(n) for n in k_to_retrieve])\n",
    "scores[\"n_retrieved\"] = k_to_retrieve\n",
    "scores"
   ]
  },
  {
   "cell_type": "markdown",
   "metadata": {},
   "source": [
    "If you have Cohere set up, you can see uf a reranker improves results (we'll talk more about rerankers in the coming weeks)."
   ]
  },
  {
   "cell_type": "code",
   "execution_count": 6,
   "metadata": {},
   "outputs": [
    {
     "name": "stdout",
     "output_type": "stream",
     "text": [
      "   precision    recall  n_retrieved\n",
      "0   0.125198  0.625991            5\n",
      "1   0.081806  0.818062           10\n",
      "2   0.046960  0.939207           20\n"
     ]
    }
   ],
   "source": [
    "try:\n",
    "    import cohere\n",
    "    from diskcache import Cache\n",
    "    cohere_api_key = os.environ[\"COHERE_API_KEY\"]\n",
    "\n",
    "    # Use diskcache to reduce re-running in case of error (or addition of new data)\n",
    "    cache = Cache(\"./cohere_cache\")\n",
    "    \n",
    "    def run_reranked_request(q: EvalQuestion, n_return_vals=5, n_to_rerank=40) -> List[bool]:\n",
    "        # First, get more results than we need\n",
    "        initial_results = reviews_table.search(q.question) \\\n",
    "            .select([\"id\", \"review\"]) \\\n",
    "            .limit(n_to_rerank) \\\n",
    "            .to_list()\n",
    "        \n",
    "        # Prepare texts for reranking\n",
    "        texts = [r[\"review\"] for r in initial_results]\n",
    "        \n",
    "        cache_key = f\"{q.question}_{n_return_vals}\".replace(\"?\", \"\")\n",
    "        # Try to get the result from cache\n",
    "        cached_result = cache.get(cache_key)\n",
    "        if cached_result is not None:\n",
    "            return cached_result\n",
    "        \n",
    "        # Rerank using Cohere\n",
    "        co = cohere.Client(cohere_api_key)\n",
    "        reranked = co.rerank(\n",
    "            query=q.question,\n",
    "            documents=texts,\n",
    "            top_n=n_return_vals\n",
    "        )\n",
    "        \n",
    "        # Map reranked results back to original IDs\n",
    "        reranked_ids = [initial_results[r.index][\"id\"] for r in reranked.results]\n",
    "        result = [str(q.chunk_id) == str(r) for r in reranked_ids]\n",
    "        cache.set(cache_key, result)\n",
    "        return result\n",
    "\n",
    "    def score_reranked_search(n_to_retrieve: List[int], n_to_rerank: int = 40) -> Dict[str, float]:\n",
    "        with ThreadPoolExecutor() as executor:\n",
    "            hits = list(executor.map(\n",
    "                lambda q: run_reranked_request(q, n_to_retrieve, n_to_rerank), \n",
    "                eval_questions\n",
    "            ))\n",
    "        return score(hits)\n",
    "\n",
    "    k_to_retrieve = [5, 10, 20]\n",
    "    reranked_scores = pd.DataFrame([score_reranked_search(n) for n in k_to_retrieve])\n",
    "    reranked_scores[\"n_retrieved\"] = k_to_retrieve\n",
    "    print(reranked_scores)\n",
    "except Exception as e:\n",
    "    print(f\"Could not run reranker.\\n{e}\")\n",
    "    print(\"Ensure COHERE_API_KEY env is set... and cohere library diskcache are installed.\")\n",
    "    print(\"Connection reset by peer is likely rate limiting from Cohere\")"
   ]
  },
  {
   "cell_type": "code",
   "execution_count": null,
   "metadata": {},
   "outputs": [],
   "source": []
  }
 ],
 "metadata": {
  "kernelspec": {
   "display_name": "cadquery",
   "language": "python",
   "name": "cadquery"
  },
  "language_info": {
   "codemirror_mode": {
    "name": "ipython",
    "version": 3
   },
   "file_extension": ".py",
   "mimetype": "text/x-python",
   "name": "python",
   "nbconvert_exporter": "python",
   "pygments_lexer": "ipython3",
   "version": "3.10.0"
  }
 },
 "nbformat": 4,
 "nbformat_minor": 2
}
