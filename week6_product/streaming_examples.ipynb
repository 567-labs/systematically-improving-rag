{
 "cells": [
  {
   "cell_type": "code",
   "execution_count": 36,
   "metadata": {},
   "outputs": [
    {
     "name": "stdout",
     "output_type": "stream",
     "text": [
      "{'content': 'The capital of France is Paris.',\n",
      " 'follow_up_question': ['What is the population of Paris?',\n",
      "                        'What are some famous landmarks in Paris?',\n",
      "                        'What cuisine is popular in France?']}\n"
     ]
    }
   ],
   "source": [
    "# Here's an example of basic streaming applied to different use cases:\n",
    "\n",
    "import openai\n",
    "import instructor\n",
    "import time\n",
    "from pprint import pprint\n",
    "from pydantic import BaseModel\n",
    "from IPython.display import clear_output\n",
    "\n",
    "client = instructor.from_openai(openai.OpenAI())\n",
    "\n",
    "class ChatResponse(BaseModel):\n",
    "    content: str\n",
    "    follow_up_question: list[str]\n",
    "\n",
    "resp = client.chat.completions.create_partial(\n",
    "    model=\"gpt-4o-mini\",\n",
    "    messages=[\n",
    "        {\"role\": \"system\", \"content\": \"You are a knowledgeable assistant\"},\n",
    "        {\"role\": \"user\", \"content\": \"What is the capital of France?\"}\n",
    "    ],\n",
    "    response_model=ChatResponse,\n",
    "    stream=True\n",
    ")\n",
    "\n",
    "for chunk in resp:\n",
    "    clear_output(wait=True)\n",
    "    pprint(chunk.model_dump())\n",
    "    time.sleep(0.05)"
   ]
  },
  {
   "cell_type": "code",
   "execution_count": 37,
   "metadata": {},
   "outputs": [
    {
     "name": "stdout",
     "output_type": "stream",
     "text": [
      "{'citations': [{'id': '1', 'title': 'Eiffel Tower'},\n",
      "               {'id': '2', 'title': 'Louvre Museum'},\n",
      "               {'id': '3', 'title': 'Notre-Dame Cathedral'}],\n",
      " 'content': \"Paris, often referred to as the 'City of Light,' is home to \"\n",
      "            'several world-famous attractions that draw millions of visitors '\n",
      "            'each year. One of the most iconic landmarks is the [Eiffel '\n",
      "            'Tower](1), an iron lattice tower that has become a global symbol '\n",
      "            'of France. Art enthusiasts are naturally drawn to the [Louvre '\n",
      "            'Museum](2), which houses many renowned works of art, including '\n",
      "            \"Leonardo da Vinci's Mona Lisa. Another significant attraction is \"\n",
      "            'the [Notre-Dame Cathedral](3), a stunning example of French '\n",
      "            \"Gothic architecture that also gained fame through Victor Hugo's \"\n",
      "            'novel \"The Hunchback of Notre-Dame.\"'}\n"
     ]
    }
   ],
   "source": [
    "# Citations\n",
    "\n",
    "\n",
    "class Citation(BaseModel):\n",
    "    id: str\n",
    "    title: str\n",
    "\n",
    "class ChatResponse(BaseModel):\n",
    "    content: str\n",
    "    citations: list[Citation]\n",
    "\n",
    "resp = client.chat.completions.create_partial(\n",
    "    model=\"gpt-4o\",\n",
    "    messages=[\n",
    "        {\"role\": \"system\", \"content\": \"You are a knowledgeable assistant. When providing information, cite your sources using markdown-like notation, e.g., [string](1), [string](2), etc.\"},\n",
    "        {\"role\": \"user\", \"content\": \"\"\"\n",
    "\n",
    "        Here are some relevant sources:\n",
    "         \n",
    "        <chunks>\n",
    "        <chunk>\n",
    "        (1) Eiffel Tower: An iconic iron lattice tower that has become a global cultural icon of France.\n",
    "        </chunk>\n",
    "        <chunk>\n",
    "        (2) Louvre Museum: Home to many famous works of art, including the Mona Lisa.\n",
    "        </chunk>\n",
    "        <chunk>\n",
    "        (3) Notre-Dame Cathedral: A medieval Catholic cathedral known for its French Gothic architecture and its prominent role in Victor Hugo's novel \"The Hunchback of Notre-Dame\".\n",
    "        </chunk>\n",
    "\n",
    "        </chunks>\n",
    "         \n",
    "        <citation_examples>\n",
    "            To cite a source, use markdown-style link notation. For example: [relevant text](source number). Citations should be integrated naturally within the sentence, not just appended at the end. This approach ensures a smooth flow of information while providing proper attribution. For instance: \"The [1980 'Miracle on Ice'](1) is considered one of the greatest upsets in Olympic history\" is preferable to \"There was a great upset in Olympic history. [Miracle on Ice](1)\".\n",
    "        </citation_examples>\n",
    "         \n",
    "         Answer the question using the sources provided. using markdown notation for citation\n",
    "         \"\"\"},\n",
    "        {\"role\": \"user\", \"content\": \"What are the main attractions in Paris?\"},\n",
    "    ],\n",
    "    response_model=ChatResponse,\n",
    "    stream=True,\n",
    ")\n",
    "\n",
    "for chunk in resp:\n",
    "    clear_output(wait=True)\n",
    "    pprint(chunk.model_dump())\n",
    "    time.sleep(0.1)"
   ]
  },
  {
   "cell_type": "code",
   "execution_count": 39,
   "metadata": {},
   "outputs": [
    {
     "name": "stdout",
     "output_type": "stream",
     "text": [
      "{\n",
      "  \"query\": \"project XYZ's retainer program\",\n",
      "  \"start_date\": \"2024-05-08\",\n",
      "  \"end_date\": \"2024-05-14\"\n",
      "}\n"
     ]
    }
   ],
   "source": [
    "# Tools\n",
    "\n",
    "from typing import Optional, Literal\n",
    "from pydantic import BaseModel\n",
    "\n",
    "class SearchQuery(BaseModel):\n",
    "    query: str\n",
    "    start_date: Optional[str]\n",
    "    end_date: Optional[str]\n",
    "\n",
    "resp = client.chat.completions.create_partial(\n",
    "    model=\"gpt-4o\",\n",
    "    messages=[\n",
    "        {\"role\": \"system\", \"content\": \"You are an AI assistant that understands and interprets search queries. Your task is to parse the user's input into a structured SearchQuery and provide an explanation of your interpretation. the date is 2024-05-15\"},\n",
    "        {\"role\": \"user\", \"content\": \"Find documents about project XYZ's retainer program from last week\"},\n",
    "    ],\n",
    "    response_model=SearchQuery,\n",
    "    stream=True,\n",
    ")\n",
    "\n",
    "for chunk in resp:\n",
    "    clear_output(wait=True)\n",
    "    print(chunk.model_dump_json(indent=2))\n",
    "    time.sleep(0.1)"
   ]
  },
  {
   "cell_type": "code",
   "execution_count": null,
   "metadata": {},
   "outputs": [],
   "source": []
  }
 ],
 "metadata": {
  "kernelspec": {
   "display_name": ".venv",
   "language": "python",
   "name": "python3"
  },
  "language_info": {
   "codemirror_mode": {
    "name": "ipython",
    "version": 3
   },
   "file_extension": ".py",
   "mimetype": "text/x-python",
   "name": "python",
   "nbconvert_exporter": "python",
   "pygments_lexer": "ipython3",
   "version": "3.12.3"
  }
 },
 "nbformat": 4,
 "nbformat_minor": 2
}
