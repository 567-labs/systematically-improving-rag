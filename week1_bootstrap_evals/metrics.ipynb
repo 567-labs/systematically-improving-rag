{
 "cells": [
  {
   "cell_type": "markdown",
   "metadata": {},
   "source": [
    "# Context\n",
    "\n",
    "In `make_synthetic_questions.ipynb`, we generated synthetic questions to bootstrap evaluation of the retrieval system in our hardware store's Q&A system.\n",
    "\n",
    "This notebook shows the first step in calculating precision and recall with different retrieval parameters. We will run more advanced experiments in future notebooks after we have these baseline scores.\n",
    "\n",
    "## Data\n",
    "\n",
    "Here is a brief review of the data."
   ]
  },
  {
   "cell_type": "code",
   "execution_count": 1,
   "metadata": {},
   "outputs": [
    {
     "data": {
      "text/html": [
       "<div>\n",
       "<style scoped>\n",
       "    .dataframe tbody tr th:only-of-type {\n",
       "        vertical-align: middle;\n",
       "    }\n",
       "\n",
       "    .dataframe tbody tr th {\n",
       "        vertical-align: top;\n",
       "    }\n",
       "\n",
       "    .dataframe thead th {\n",
       "        text-align: right;\n",
       "    }\n",
       "</style>\n",
       "<table border=\"1\" class=\"dataframe\">\n",
       "  <thead>\n",
       "    <tr style=\"text-align: right;\">\n",
       "      <th></th>\n",
       "      <th>id</th>\n",
       "      <th>product_title</th>\n",
       "      <th>product_description</th>\n",
       "      <th>review</th>\n",
       "      <th>vector</th>\n",
       "    </tr>\n",
       "  </thead>\n",
       "  <tbody>\n",
       "    <tr>\n",
       "      <th>0</th>\n",
       "      <td>0</td>\n",
       "      <td>Cordless Drill</td>\n",
       "      <td>This lightweight cordless drill features a powerful lithium-ion battery, making it perfect for both indoor and outdoor projects. With multiple speed setting...</td>\n",
       "      <td>I've been using this cordless drill for about six months now, and it has exceeded my expectations. The lithium-ion battery lasts a long time, allowing me to...</td>\n",
       "      <td>[0.0031058379, 0.0037674536, 0.0050993524, -0.02172642, 0.01334788, 0.0073500015, -0.01471156, 0.04703539, 0.047220293, -0.004362619, 0.017080665, -0.030393...</td>\n",
       "    </tr>\n",
       "    <tr>\n",
       "      <th>1</th>\n",
       "      <td>1</td>\n",
       "      <td>Cordless Drill</td>\n",
       "      <td>This lightweight cordless drill features a powerful lithium-ion battery, making it perfect for both indoor and outdoor projects. With multiple speed setting...</td>\n",
       "      <td>This cordless drill is a game-changer for my DIY projects. The powerful battery charges quickly and holds its charge well, even when not in use. I appreciat...</td>\n",
       "      <td>[0.032876715, -0.010506455, -0.018205797, -0.0066769994, 0.015029025, 0.0103158485, -0.009143331, 0.0552643, 0.023843126, -0.02174068, 0.026176611, -0.00222...</td>\n",
       "    </tr>\n",
       "    <tr>\n",
       "      <th>2</th>\n",
       "      <td>2</td>\n",
       "      <td>Cordless Drill</td>\n",
       "      <td>This lightweight cordless drill features a powerful lithium-ion battery, making it perfect for both indoor and outdoor projects. With multiple speed setting...</td>\n",
       "      <td>I purchased this cordless drill for some home renovation work, and it has been fantastic. The battery life is impressive, and the drill itself is very power...</td>\n",
       "      <td>[-0.019077417, 0.011568582, -0.0027465487, -0.027230835, -0.009889271, -0.017392453, -0.025828583, 0.07703341, 0.0393083, 0.005713613, 0.021825379, -0.00500...</td>\n",
       "    </tr>\n",
       "    <tr>\n",
       "      <th>3</th>\n",
       "      <td>3</td>\n",
       "      <td>Cordless Drill</td>\n",
       "      <td>This lightweight cordless drill features a powerful lithium-ion battery, making it perfect for both indoor and outdoor projects. With multiple speed setting...</td>\n",
       "      <td>As a professional contractor, I need reliable tools, and this cordless drill fits the bill perfectly. The lithium-ion battery provides consistent power, and...</td>\n",
       "      <td>[0.012545761, 0.017653596, 0.00077406655, -0.018319337, 0.035100583, -0.005041835, -0.044489816, 0.04885156, 0.005320183, -0.006657403, 0.021039689, -0.0318...</td>\n",
       "    </tr>\n",
       "    <tr>\n",
       "      <th>4</th>\n",
       "      <td>4</td>\n",
       "      <td>Cordless Drill</td>\n",
       "      <td>This lightweight cordless drill features a powerful lithium-ion battery, making it perfect for both indoor and outdoor projects. With multiple speed setting...</td>\n",
       "      <td>This is by far the best cordless drill I've ever owned. The battery life is outstanding, and it recharges quickly. The multiple speed settings are perfect f...</td>\n",
       "      <td>[0.0071220105, -0.004285458, -0.008581569, -0.015916655, -0.005252283, 0.0040084613, -0.015597044, 0.063964926, 0.0049886033, 0.012081316, 0.020455139, -0.0...</td>\n",
       "    </tr>\n",
       "  </tbody>\n",
       "</table>\n",
       "</div>"
      ],
      "text/plain": [
       "  id   product_title  \\\n",
       "0  0  Cordless Drill   \n",
       "1  1  Cordless Drill   \n",
       "2  2  Cordless Drill   \n",
       "3  3  Cordless Drill   \n",
       "4  4  Cordless Drill   \n",
       "\n",
       "                                                                                                                                               product_description  \\\n",
       "0  This lightweight cordless drill features a powerful lithium-ion battery, making it perfect for both indoor and outdoor projects. With multiple speed setting...   \n",
       "1  This lightweight cordless drill features a powerful lithium-ion battery, making it perfect for both indoor and outdoor projects. With multiple speed setting...   \n",
       "2  This lightweight cordless drill features a powerful lithium-ion battery, making it perfect for both indoor and outdoor projects. With multiple speed setting...   \n",
       "3  This lightweight cordless drill features a powerful lithium-ion battery, making it perfect for both indoor and outdoor projects. With multiple speed setting...   \n",
       "4  This lightweight cordless drill features a powerful lithium-ion battery, making it perfect for both indoor and outdoor projects. With multiple speed setting...   \n",
       "\n",
       "                                                                                                                                                            review  \\\n",
       "0  I've been using this cordless drill for about six months now, and it has exceeded my expectations. The lithium-ion battery lasts a long time, allowing me to...   \n",
       "1  This cordless drill is a game-changer for my DIY projects. The powerful battery charges quickly and holds its charge well, even when not in use. I appreciat...   \n",
       "2  I purchased this cordless drill for some home renovation work, and it has been fantastic. The battery life is impressive, and the drill itself is very power...   \n",
       "3  As a professional contractor, I need reliable tools, and this cordless drill fits the bill perfectly. The lithium-ion battery provides consistent power, and...   \n",
       "4  This is by far the best cordless drill I've ever owned. The battery life is outstanding, and it recharges quickly. The multiple speed settings are perfect f...   \n",
       "\n",
       "                                                                                                                                                            vector  \n",
       "0  [0.0031058379, 0.0037674536, 0.0050993524, -0.02172642, 0.01334788, 0.0073500015, -0.01471156, 0.04703539, 0.047220293, -0.004362619, 0.017080665, -0.030393...  \n",
       "1  [0.032876715, -0.010506455, -0.018205797, -0.0066769994, 0.015029025, 0.0103158485, -0.009143331, 0.0552643, 0.023843126, -0.02174068, 0.026176611, -0.00222...  \n",
       "2  [-0.019077417, 0.011568582, -0.0027465487, -0.027230835, -0.009889271, -0.017392453, -0.025828583, 0.07703341, 0.0393083, 0.005713613, 0.021825379, -0.00500...  \n",
       "3  [0.012545761, 0.017653596, 0.00077406655, -0.018319337, 0.035100583, -0.005041835, -0.044489816, 0.04885156, 0.005320183, -0.006657403, 0.021039689, -0.0318...  \n",
       "4  [0.0071220105, -0.004285458, -0.008581569, -0.015916655, -0.005252283, 0.0040084613, -0.015597044, 0.063964926, 0.0049886033, 0.012081316, 0.020455139, -0.0...  "
      ]
     },
     "execution_count": 1,
     "metadata": {},
     "output_type": "execute_result"
    }
   ],
   "source": [
    "import json\n",
    "import lancedb\n",
    "import os\n",
    "import pandas as pd\n",
    "from typing import List, Dict\n",
    "from concurrent.futures import ThreadPoolExecutor\n",
    "\n",
    "pd.set_option(\"display.max_colwidth\", 160)\n",
    "\n",
    "db = lancedb.connect(\"./lancedb\")\n",
    "reviews_table = db.open_table(\"reviews\")\n",
    "reviews_table.to_pandas().head()"
   ]
  },
  {
   "cell_type": "code",
   "execution_count": 2,
   "metadata": {},
   "outputs": [
    {
     "data": {
      "text/plain": [
       "[{'question': 'How long does the battery last on this cordless drill?',\n",
       "  'answer': 'The lithium-ion battery lasts a long time, allowing for multiple projects on a single charge.',\n",
       "  'chunk_id': '0'},\n",
       " {'question': 'Is this cordless drill comfortable to use for long periods?',\n",
       "  'answer': 'Yes, the comfortable grip means it can be used for extended periods without fatigue.',\n",
       "  'chunk_id': '0'},\n",
       " {'question': 'How long does the battery last on this cordless drill?',\n",
       "  'answer': 'The powerful battery charges quickly and holds its charge well, even when not in use.',\n",
       "  'chunk_id': '1'},\n",
       " {'question': 'Is this drill comfortable to use for extended periods?',\n",
       "  'answer': 'The ergonomic design and lightweight build make it comfortable to use for hours on end.',\n",
       "  'chunk_id': '1'},\n",
       " {'question': \"How's the battery life on this cordless drill?\",\n",
       "  'answer': 'The battery life is impressive.',\n",
       "  'chunk_id': '2'}]"
      ]
     },
     "execution_count": 2,
     "metadata": {},
     "output_type": "execute_result"
    }
   ],
   "source": [
    "with open(\"synthetic_eval_dataset.json\", \"r\") as f:\n",
    "    synthetic_questions = json.load(f)\n",
    "synthetic_questions[:5]"
   ]
  },
  {
   "cell_type": "markdown",
   "metadata": {},
   "source": [
    "## Set Up Evaluation\n",
    "\n",
    "Load the evaluation questions into a structured format."
   ]
  },
  {
   "cell_type": "code",
   "execution_count": 3,
   "metadata": {},
   "outputs": [],
   "source": [
    "from pydantic import BaseModel\n",
    "\n",
    "\n",
    "class EvalQuestion(BaseModel):\n",
    "    question: str\n",
    "    answer: str\n",
    "    chunk_id: str\n",
    "\n",
    "\n",
    "eval_questions = [EvalQuestion(**question) for question in synthetic_questions]"
   ]
  },
  {
   "cell_type": "markdown",
   "metadata": {},
   "source": [
    "Build a simple search function"
   ]
  },
  {
   "cell_type": "code",
   "execution_count": 4,
   "metadata": {},
   "outputs": [],
   "source": [
    "def run_simple_request(q: EvalQuestion, n_return_vals=5):\n",
    "    results = (\n",
    "        reviews_table.search(q.question).select([\"id\"]).limit(n_return_vals).to_list()\n",
    "    )\n",
    "    return [str(q.chunk_id) == str(r[\"id\"]) for r in results]"
   ]
  },
  {
   "cell_type": "markdown",
   "metadata": {},
   "source": [
    "Now do the benchmarking. For simplicity, we just compare retrieval sizes with a simple semantic search in this cell."
   ]
  },
  {
   "cell_type": "code",
   "execution_count": 5,
   "metadata": {},
   "outputs": [
    {
     "data": {
      "text/html": [
       "<div>\n",
       "<style scoped>\n",
       "    .dataframe tbody tr th:only-of-type {\n",
       "        vertical-align: middle;\n",
       "    }\n",
       "\n",
       "    .dataframe tbody tr th {\n",
       "        vertical-align: top;\n",
       "    }\n",
       "\n",
       "    .dataframe thead th {\n",
       "        text-align: right;\n",
       "    }\n",
       "</style>\n",
       "<table border=\"1\" class=\"dataframe\">\n",
       "  <thead>\n",
       "    <tr style=\"text-align: right;\">\n",
       "      <th></th>\n",
       "      <th>precision</th>\n",
       "      <th>recall</th>\n",
       "      <th>n_retrieved</th>\n",
       "    </tr>\n",
       "  </thead>\n",
       "  <tbody>\n",
       "    <tr>\n",
       "      <th>0</th>\n",
       "      <td>0.103765</td>\n",
       "      <td>0.518826</td>\n",
       "      <td>5</td>\n",
       "    </tr>\n",
       "    <tr>\n",
       "      <th>1</th>\n",
       "      <td>0.072674</td>\n",
       "      <td>0.726744</td>\n",
       "      <td>10</td>\n",
       "    </tr>\n",
       "    <tr>\n",
       "      <th>2</th>\n",
       "      <td>0.045903</td>\n",
       "      <td>0.918051</td>\n",
       "      <td>20</td>\n",
       "    </tr>\n",
       "  </tbody>\n",
       "</table>\n",
       "</div>"
      ],
      "text/plain": [
       "   precision    recall  n_retrieved\n",
       "0   0.103765  0.518826            5\n",
       "1   0.072674  0.726744           10\n",
       "2   0.045903  0.918051           20"
      ]
     },
     "execution_count": 5,
     "metadata": {},
     "output_type": "execute_result"
    }
   ],
   "source": [
    "def score(hits):\n",
    "    n_retrieval_requests = len(hits)\n",
    "    total_retrievals = sum(len(l) for l in hits)\n",
    "    true_positives = sum(sum(sublist) for sublist in hits)\n",
    "    precision = true_positives / total_retrievals if total_retrievals > 0 else 0\n",
    "    recall = true_positives / n_retrieval_requests if n_retrieval_requests > 0 else 0\n",
    "    return {\"precision\": precision, \"recall\": recall}\n",
    "\n",
    "\n",
    "def score_simple_search(n_to_retrieve: List[int]) -> Dict[str, float]:\n",
    "    # parallelize to speed this up 5-10X\n",
    "    with ThreadPoolExecutor() as executor:\n",
    "        hits = list(\n",
    "            executor.map(lambda q: run_simple_request(q, n_to_retrieve), eval_questions)\n",
    "        )\n",
    "    return score(hits)\n",
    "\n",
    "\n",
    "k_to_retrieve = [5, 10, 20]\n",
    "scores = pd.DataFrame([score_simple_search(n) for n in k_to_retrieve])\n",
    "scores[\"n_retrieved\"] = k_to_retrieve\n",
    "scores"
   ]
  },
  {
   "cell_type": "markdown",
   "metadata": {},
   "source": [
    "If you have Cohere set up, you can see uf a reranker improves results (we'll talk more about rerankers in the coming weeks)."
   ]
  },
  {
   "cell_type": "code",
   "execution_count": 6,
   "metadata": {},
   "outputs": [
    {
     "name": "stdout",
     "output_type": "stream",
     "text": [
      "   precision    recall  n_retrieved\n",
      "0   0.127409  0.637043            5\n",
      "1   0.082669  0.826689           10\n",
      "2   0.047148  0.942968           20\n"
     ]
    }
   ],
   "source": [
    "try:\n",
    "    import cohere\n",
    "    from diskcache import Cache\n",
    "    cohere_api_key = os.environ[\"COHERE_API_KEY\"]\n",
    "\n",
    "    # Use diskcache to reduce re-running in case of error (or addition of new data)\n",
    "    cache = Cache(\"./cohere_cache\")\n",
    "    \n",
    "    def run_reranked_request(q: EvalQuestion, n_return_vals=5, n_to_rerank=40) -> List[bool]:\n",
    "        # First, get more results than we need\n",
    "        initial_results = reviews_table.search(q.question) \\\n",
    "            .select([\"id\", \"review\"]) \\\n",
    "            .limit(n_to_rerank) \\\n",
    "            .to_list()\n",
    "        \n",
    "        # Prepare texts for reranking\n",
    "        texts = [r[\"review\"] for r in initial_results]\n",
    "        \n",
    "        cache_key = f\"{q.question}_{n_return_vals}\".replace(\"?\", \"\")\n",
    "        # Try to get the result from cache\n",
    "        cached_result = cache.get(cache_key)\n",
    "        if cached_result is not None:\n",
    "            return cached_result\n",
    "        \n",
    "        # Rerank using Cohere\n",
    "        co = cohere.Client(cohere_api_key)\n",
    "        reranked = co.rerank(\n",
    "            query=q.question,\n",
    "            documents=texts,\n",
    "            top_n=n_return_vals\n",
    "        )\n",
    "        \n",
    "        # Map reranked results back to original IDs\n",
    "        reranked_ids = [initial_results[r.index][\"id\"] for r in reranked.results]\n",
    "        result = [str(q.chunk_id) == str(r) for r in reranked_ids]\n",
    "        cache.set(cache_key, result)\n",
    "        return result\n",
    "\n",
    "    def score_reranked_search(n_to_retrieve: List[int], n_to_rerank: int = 40) -> Dict[str, float]:\n",
    "        with ThreadPoolExecutor() as executor:\n",
    "            hits = list(executor.map(\n",
    "                lambda q: run_reranked_request(q, n_to_retrieve, n_to_rerank), \n",
    "                eval_questions\n",
    "            ))\n",
    "        return score(hits)\n",
    "\n",
    "    k_to_retrieve = [5, 10, 20]\n",
    "    reranked_scores = pd.DataFrame([score_reranked_search(n) for n in k_to_retrieve])\n",
    "    reranked_scores[\"n_retrieved\"] = k_to_retrieve\n",
    "    print(reranked_scores)\n",
    "except Exception as e:\n",
    "    print(f\"Could not run reranker.\\n{e}\")\n",
    "    print(\"Ensure COHERE_API_KEY env is set... and cohere library diskcache are installed.\")\n",
    "    print(\"Connection reset by peer is likely rate limiting from Cohere\")"
   ]
  }
 ],
 "metadata": {
  "kernelspec": {
   "display_name": "cadquery",
   "language": "python",
   "name": "cadquery"
  },
  "language_info": {
   "codemirror_mode": {
    "name": "ipython",
    "version": 3
   },
   "file_extension": ".py",
   "mimetype": "text/x-python",
   "name": "python",
   "nbconvert_exporter": "python",
   "pygments_lexer": "ipython3",
   "version": "3.10.0"
  }
 },
 "nbformat": 4,
 "nbformat_minor": 2
}
