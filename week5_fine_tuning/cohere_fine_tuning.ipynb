{
 "cells": [
  {
   "cell_type": "markdown",
   "metadata": {},
   "source": [
    "## Create dataset on Cohere"
   ]
  },
  {
   "cell_type": "code",
   "execution_count": 3,
   "metadata": {},
   "outputs": [
    {
     "name": "stdout",
     "output_type": "stream",
     "text": [
      "...\n",
      "...\n",
      "...\n"
     ]
    }
   ],
   "source": [
    "import json\n",
    "import os\n",
    "import sys\n",
    "\n",
    "import cohere\n",
    "import lancedb\n",
    "import pandas as pd\n",
    "from time import sleep\n",
    "from cohere.finetuning import BaseModel, FinetunedModel, Settings, WandbConfig\n",
    "\n",
    "# Add the week1_bootstrap_evals to path to import scoring_utils\n",
    "sys.path.append(os.path.abspath(\"../week1_bootstrap_evals\"))\n",
    "\n",
    "from scoring_utils import EvalQuestion, score_reranked_search\n",
    "\n",
    "training_path = '../week1_bootstrap_evals/synthetic_finetune_dataset.jsonl'\n",
    "\n",
    "co = cohere.Client()\n",
    "dataset_creation_request = co.datasets.create(\n",
    "    name=\"hardware-review-reranking-data\",\n",
    "    data=open(training_path, \"rb\"),\n",
    "    type=\"reranker-finetune-input\",\n",
    ")\n",
    "dataset_resp = co.wait(dataset_creation_request)\n",
    "dataset = dataset_resp.dataset"
   ]
  },
  {
   "cell_type": "markdown",
   "metadata": {},
   "source": [
    "## Train The Model"
   ]
  },
  {
   "cell_type": "code",
   "execution_count": 5,
   "metadata": {},
   "outputs": [
    {
     "name": "stdout",
     "output_type": "stream",
     "text": [
      "0 pings. Current status: STATUS_QUEUED\n",
      "5 pings. Current status: STATUS_FINETUNING\n",
      "10 pings. Current status: STATUS_FINETUNING\n",
      "15 pings. Current status: STATUS_FINETUNING\n"
     ]
    },
    {
     "data": {
      "text/plain": [
       "'49f7309d-4822-4c74-9882-d219fb1f6bd0-ft'"
      ]
     },
     "execution_count": 5,
     "metadata": {},
     "output_type": "execute_result"
    }
   ],
   "source": [
    "wandb_config = WandbConfig(\n",
    "    project=\"hardware-review-reranker\", api_key=os.environ[\"WANDB_API_KEY\"]\n",
    ")\n",
    "finetune_request = co.finetuning.create_finetuned_model(\n",
    "    request=FinetunedModel(\n",
    "        name=\"hardware-review-reranker-900\",\n",
    "        settings=Settings(\n",
    "            base_model=BaseModel(base_type=\"BASE_TYPE_RERANK\"),\n",
    "            dataset_id=dataset.id,\n",
    "            wandb=wandb_config,\n",
    "        ),\n",
    "    )\n",
    ")\n",
    "model_id = finetune_request.finetuned_model.id\n",
    "\n",
    "for pings in range(100):\n",
    "    response = co.finetuning.get_finetuned_model(model_id)\n",
    "    if response.finetuned_model.status == \"STATUS_READY\":\n",
    "        break\n",
    "    if pings % 5 == 0:\n",
    "        print(f\"{pings} pings. Current status: {response.finetuned_model.status}\")\n",
    "    sleep(180)\n",
    "\n",
    "model_callable_id = f\"{model_id}-ft\"\n",
    "model_callable_id"
   ]
  },
  {
   "cell_type": "markdown",
   "metadata": {},
   "source": [
    "## Test The Model"
   ]
  },
  {
   "cell_type": "code",
   "execution_count": 6,
   "metadata": {},
   "outputs": [
    {
     "name": "stdout",
     "output_type": "stream",
     "text": [
      "   precision    recall  n_retrieved\n",
      "0   0.132444  0.662222            5\n",
      "1   0.099222  0.992222           10\n"
     ]
    }
   ],
   "source": [
    "with open(\"../week1_bootstrap_evals/synthetic_eval_dataset.json\", \"r\") as f:\n",
    "    synthetic_questions = json.load(f)\n",
    "eval_questions = [EvalQuestion(**question) for question in synthetic_questions]\n",
    "\n",
    "db = lancedb.connect(\"../week1_bootstrap_evals/lancedb\")\n",
    "reviews_table = db.open_table(\"reviews\")\n",
    "\n",
    "k_to_retrieve = [5, 10]\n",
    "reranked_scores = pd.DataFrame(\n",
    "    [\n",
    "        score_reranked_search(eval_questions, reviews_table, n, model=model_callable_id)\n",
    "        for n in k_to_retrieve\n",
    "    ]\n",
    ")\n",
    "reranked_scores[\"n_retrieved\"] = k_to_retrieve\n",
    "print(reranked_scores)"
   ]
  },
  {
   "cell_type": "code",
   "execution_count": null,
   "metadata": {},
   "outputs": [],
   "source": []
  }
 ],
 "metadata": {
  "kernelspec": {
   "display_name": "cadquery",
   "language": "python",
   "name": "cadquery"
  },
  "language_info": {
   "codemirror_mode": {
    "name": "ipython",
    "version": 3
   },
   "file_extension": ".py",
   "mimetype": "text/x-python",
   "name": "python",
   "nbconvert_exporter": "python",
   "pygments_lexer": "ipython3",
   "version": "3.10.0"
  }
 },
 "nbformat": 4,
 "nbformat_minor": 2
}
