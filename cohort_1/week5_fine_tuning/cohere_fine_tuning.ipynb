{
 "cells": [
  {
   "cell_type": "markdown",
   "metadata": {},
   "source": [
    "## Create dataset on Cohere"
   ]
  },
  {
   "cell_type": "code",
   "execution_count": 1,
   "metadata": {},
   "outputs": [
    {
     "name": "stderr",
     "output_type": "stream",
     "text": [
      "/Users/dan/Desktop/systematically-improving-rag/systemic/lib/python3.10/site-packages/pydantic/_internal/_config.py:341: UserWarning: Valid config keys have changed in V2:\n",
      "* 'allow_population_by_field_name' has been renamed to 'populate_by_name'\n",
      "* 'smart_union' has been removed\n",
      "  warnings.warn(message, UserWarning)\n"
     ]
    },
    {
     "name": "stdout",
     "output_type": "stream",
     "text": [
      "...\n",
      "...\n",
      "...\n",
      "...\n",
      "...\n",
      "...\n"
     ]
    }
   ],
   "source": [
    "import json\n",
    "import os\n",
    "import sys\n",
    "\n",
    "import cohere\n",
    "import lancedb\n",
    "import pandas as pd\n",
    "from time import sleep\n",
    "from cohere.finetuning import BaseModel, FinetunedModel, Settings, WandbConfig\n",
    "\n",
    "# Add the week1_bootstrap_evals to path to import scoring_utils\n",
    "sys.path.append(os.path.abspath(\"../week1_bootstrap_evals\"))\n",
    "\n",
    "from scoring_utils import EvalQuestion, score_reranked_search\n",
    "\n",
    "training_path = \"../week1_bootstrap_evals/synthetic_finetune_dataset.jsonl\"\n",
    "\n",
    "co = cohere.Client()\n",
    "dataset_creation_request = co.datasets.create(\n",
    "    name=\"hardware-review-reranking-data\",\n",
    "    data=open(training_path, \"rb\"),\n",
    "    type=\"reranker-finetune-input\",\n",
    ")\n",
    "dataset_resp = co.wait(dataset_creation_request)\n",
    "dataset = dataset_resp.dataset"
   ]
  },
  {
   "cell_type": "markdown",
   "metadata": {},
   "source": [
    "## Train The Model"
   ]
  },
  {
   "cell_type": "code",
   "execution_count": 2,
   "metadata": {},
   "outputs": [
    {
     "name": "stdout",
     "output_type": "stream",
     "text": [
      "0 pings. Current status: STATUS_QUEUED\n",
      "5 pings. Current status: STATUS_FINETUNING\n",
      "10 pings. Current status: STATUS_FINETUNING\n",
      "15 pings. Current status: STATUS_FINETUNING\n"
     ]
    },
    {
     "data": {
      "text/plain": [
       "'49f7309d-4822-4c74-9882-d219fb1f6bd0-ft'"
      ]
     },
     "execution_count": 2,
     "metadata": {},
     "output_type": "execute_result"
    }
   ],
   "source": [
    "wandb_config = WandbConfig(\n",
    "    project=\"hardware-review-reranker\", api_key=os.environ[\"WANDB_API_KEY\"]\n",
    ")\n",
    "finetune_request = co.finetuning.create_finetuned_model(\n",
    "    request=FinetunedModel(\n",
    "        name=\"hardware-review-reranker-900\",\n",
    "        settings=Settings(\n",
    "            base_model=BaseModel(base_type=\"BASE_TYPE_RERANK\"),\n",
    "            dataset_id=dataset.id,\n",
    "            wandb=wandb_config,\n",
    "        ),\n",
    "    )\n",
    ")\n",
    "model_id = finetune_request.finetuned_model.id\n",
    "\n",
    "for pings in range(100):\n",
    "    response = co.finetuning.get_finetuned_model(model_id)\n",
    "    if response.finetuned_model.status == \"STATUS_READY\":\n",
    "        break\n",
    "    if pings % 5 == 0:\n",
    "        print(f\"{pings} pings. Current status: {response.finetuned_model.status}\")\n",
    "    sleep(180)\n",
    "\n",
    "model_callable_id = f\"{model_id}-ft\"\n",
    "model_callable_id"
   ]
  },
  {
   "cell_type": "markdown",
   "metadata": {},
   "source": [
    "## Test The Model"
   ]
  },
  {
   "cell_type": "code",
   "execution_count": 3,
   "metadata": {},
   "outputs": [
    {
     "data": {
      "text/html": [
       "<div>\n",
       "<style scoped>\n",
       "    .dataframe tbody tr th:only-of-type {\n",
       "        vertical-align: middle;\n",
       "    }\n",
       "\n",
       "    .dataframe tbody tr th {\n",
       "        vertical-align: top;\n",
       "    }\n",
       "\n",
       "    .dataframe thead th {\n",
       "        text-align: right;\n",
       "    }\n",
       "</style>\n",
       "<table border=\"1\" class=\"dataframe\">\n",
       "  <thead>\n",
       "    <tr style=\"text-align: right;\">\n",
       "      <th></th>\n",
       "      <th>precision</th>\n",
       "      <th>recall</th>\n",
       "      <th>n_retrieved</th>\n",
       "    </tr>\n",
       "  </thead>\n",
       "  <tbody>\n",
       "    <tr>\n",
       "      <th>0</th>\n",
       "      <td>0.129111</td>\n",
       "      <td>0.645556</td>\n",
       "      <td>5</td>\n",
       "    </tr>\n",
       "    <tr>\n",
       "      <th>1</th>\n",
       "      <td>0.099222</td>\n",
       "      <td>0.992222</td>\n",
       "      <td>10</td>\n",
       "    </tr>\n",
       "  </tbody>\n",
       "</table>\n",
       "</div>"
      ],
      "text/plain": [
       "   precision    recall  n_retrieved\n",
       "0   0.129111  0.645556            5\n",
       "1   0.099222  0.992222           10"
      ]
     },
     "execution_count": 3,
     "metadata": {},
     "output_type": "execute_result"
    }
   ],
   "source": [
    "with open(\"../week1_bootstrap_evals/synthetic_eval_dataset.json\", \"r\") as f:\n",
    "    synthetic_questions = json.load(f)\n",
    "eval_questions = [EvalQuestion(**question) for question in synthetic_questions]\n",
    "\n",
    "db = lancedb.connect(\"../week1_bootstrap_evals/lancedb\")\n",
    "reviews_table = db.open_table(\"reviews\")\n",
    "\n",
    "k_to_retrieve = [5, 10]\n",
    "reranked_scores = score_reranked_search(\n",
    "    eval_questions, reviews_table, k_to_retrieve, model=model_callable_id\n",
    ")\n",
    "reranked_scores_df = pd.DataFrame(\n",
    "    [\n",
    "        {\"precision\": scores[\"precision\"], \"recall\": scores[\"recall\"], \"n_retrieved\": k}\n",
    "        for k, scores in reranked_scores.items()\n",
    "    ]\n",
    ")\n",
    "\n",
    "reranked_scores_df"
   ]
  },
  {
   "cell_type": "code",
   "execution_count": null,
   "metadata": {},
   "outputs": [],
   "source": []
  }
 ],
 "metadata": {
  "kernelspec": {
   "display_name": "systemic",
   "language": "python",
   "name": "python3"
  },
  "language_info": {
   "codemirror_mode": {
    "name": "ipython",
    "version": 3
   },
   "file_extension": ".py",
   "mimetype": "text/x-python",
   "name": "python",
   "nbconvert_exporter": "python",
   "pygments_lexer": "ipython3",
   "version": "3.10.14"
  }
 },
 "nbformat": 4,
 "nbformat_minor": 2
}
