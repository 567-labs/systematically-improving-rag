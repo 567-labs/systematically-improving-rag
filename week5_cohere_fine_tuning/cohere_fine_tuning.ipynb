{
 "cells": [
  {
   "cell_type": "code",
   "execution_count": 1,
   "metadata": {},
   "outputs": [
    {
     "name": "stderr",
     "output_type": "stream",
     "text": [
      "/Users/dan/.pyenv/versions/3.10.0/lib/python3.10/site-packages/pydantic/_internal/_config.py:334: UserWarning: Valid config keys have changed in V2:\n",
      "* 'allow_population_by_field_name' has been renamed to 'populate_by_name'\n",
      "* 'smart_union' has been removed\n",
      "  warnings.warn(message, UserWarning)\n"
     ]
    },
    {
     "name": "stdout",
     "output_type": "stream",
     "text": [
      "...\n",
      "...\n"
     ]
    }
   ],
   "source": [
    "import json\n",
    "import os\n",
    "import sys\n",
    "\n",
    "import cohere\n",
    "import lancedb\n",
    "import pandas as pd\n",
    "from time import sleep\n",
    "from cohere.finetuning import BaseModel, FinetunedModel, Settings, WandbConfig\n",
    "\n",
    "# Add the week1_bootstrap_evals to path to import scoring_utils\n",
    "sys.path.append(os.path.abspath(\"../week1_bootstrap_evals\"))\n",
    "\n",
    "from scoring_utils import EvalQuestion, score_reranked_search\n",
    "\n",
    "co = cohere.Client()\n",
    "dataset_creation_request = co.datasets.create(\n",
    "    name=\"hardware-review-reranking-data\",\n",
    "    data=open(\"ft_dataset.jsonl\", \"rb\"),\n",
    "    type=\"reranker-finetune-input\",\n",
    ")\n",
    "dataset_resp = co.wait(dataset_creation_request)\n",
    "dataset = dataset_resp.dataset"
   ]
  },
  {
   "cell_type": "code",
   "execution_count": 3,
   "metadata": {},
   "outputs": [
    {
     "name": "stdout",
     "output_type": "stream",
     "text": [
      "0 pings. Current status: STATUS_QUEUED\n",
      "5 pings. Current status: STATUS_FINETUNING\n",
      "10 pings. Current status: STATUS_FINETUNING\n",
      "15 pings. Current status: STATUS_FINETUNING\n",
      "20 pings. Current status: STATUS_FINETUNING\n"
     ]
    },
    {
     "data": {
      "text/plain": [
       "'744e091c-0df1-4e35-a02f-e6e7abd5fbfc-ft'"
      ]
     },
     "execution_count": 3,
     "metadata": {},
     "output_type": "execute_result"
    }
   ],
   "source": [
    "wandb_config = WandbConfig(\n",
    "    project=\"hardware-review-reranker\", api_key=os.environ[\"WANDB_API_KEY\"]\n",
    ")\n",
    "finetune_request = co.finetuning.create_finetuned_model(\n",
    "    request=FinetunedModel(\n",
    "        name=\"hardware-review-reranker-3600\",\n",
    "        settings=Settings(\n",
    "            base_model=BaseModel(base_type=\"BASE_TYPE_RERANK\"),\n",
    "            dataset_id=dataset.id,\n",
    "            wandb=wandb_config,\n",
    "        ),\n",
    "    )\n",
    ")\n",
    "model_id = finetune_request.finetuned_model.id\n",
    "\n",
    "for pings in range(100):\n",
    "    response = co.finetuning.get_finetuned_model(model_id)\n",
    "    if response.finetuned_model.status == \"STATUS_READY\":\n",
    "        break\n",
    "    if pings % 5 == 0:\n",
    "        print(f\"{pings} pings. Current status: {response.finetuned_model.status}\")\n",
    "    sleep(180)\n",
    "\n",
    "model_callable_id = f\"{model_id}-ft\"\n",
    "model_callable_id"
   ]
  },
  {
   "cell_type": "code",
   "execution_count": 4,
   "metadata": {},
   "outputs": [
    {
     "name": "stdout",
     "output_type": "stream",
     "text": [
      "   precision    recall  n_retrieved\n",
      "0   0.111889  0.559444            5\n",
      "1   0.076611  0.766111           10\n",
      "2   0.045916  0.918333           20\n"
     ]
    }
   ],
   "source": [
    "with open(\"../week1_bootstrap_evals/synthetic_eval_dataset.json\", \"r\") as f:\n",
    "    synthetic_questions = json.load(f)\n",
    "eval_questions = [EvalQuestion(**question) for question in synthetic_questions]\n",
    "\n",
    "db = lancedb.connect(\"../week1_bootstrap_evals/lancedb\")\n",
    "reviews_table = db.open_table(\"reviews\")\n",
    "\n",
    "k_to_retrieve = [5, 10, 20]\n",
    "reranked_scores = pd.DataFrame(\n",
    "    [\n",
    "        score_reranked_search(eval_questions, reviews_table, n, model=model_callable_id)\n",
    "        for n in k_to_retrieve\n",
    "    ]\n",
    ")\n",
    "reranked_scores[\"n_retrieved\"] = k_to_retrieve\n",
    "print(reranked_scores)"
   ]
  }
 ],
 "metadata": {
  "kernelspec": {
   "display_name": "cadquery",
   "language": "python",
   "name": "cadquery"
  },
  "language_info": {
   "codemirror_mode": {
    "name": "ipython",
    "version": 3
   },
   "file_extension": ".py",
   "mimetype": "text/x-python",
   "name": "python",
   "nbconvert_exporter": "python",
   "pygments_lexer": "ipython3",
   "version": "3.10.0"
  }
 },
 "nbformat": 4,
 "nbformat_minor": 2
}
