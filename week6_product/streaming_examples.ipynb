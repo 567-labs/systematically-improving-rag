{
 "cells": [
  {
   "cell_type": "markdown",
   "metadata": {},
   "source": [
    "Week 6 focused on `Product Design` for RAG apps. This notebook gives code samples and links to code samples for the main topics\n",
    "\n",
    "For reference, the slides are [here](https://drive.google.com/file/d/1StJIwHwP06Chzqvg94irltf-W1ELSw0o/view)\n",
    "\n",
    "| Topic | Slides | Code Sample |\n",
    "|-------|-------------------|-------------|\n",
    "| Feedback design principles | 3-10 | - |\n",
    "| Citations | 11-15 | 2nd code cell in this notebook |\n",
    "| Streaming | 16-26 | All cells in this notebook |\n",
    "| Chain of Thought | 31-36 | [Instructor docs](https://python.useinstructor.com/concepts/prompting/#modular-chain-of-thought) and cells 2-3 in [week 2 notebook](https://github.com/567-labs/systematically-improving-rag/blob/main/week2_question_classification/example_notebook/analyze_clusters.ipynb) |\n",
    "| Validators | 37-39 | [Instructor Docs](https://python.useinstructor.com/concepts/reask_validation/#step-1-define-the-response-model-with-validators) |\n",
    "\n"
   ]
  },
  {
   "cell_type": "code",
   "execution_count": 1,
   "metadata": {},
   "outputs": [
    {
     "name": "stdout",
     "output_type": "stream",
     "text": [
      "{'content': 'Based on user reviews, the durability of the blades that come '\n",
      "            'with the saw seems to be subpar. One user mentioned that the '\n",
      "            'blade was dull after about a week, and another said it lasted '\n",
      "            'only a few hours. However, it appears that the replacement blades '\n",
      "            'offer better durability.',\n",
      " 'follow_up_question': ['Would you like suggestions for more durable '\n",
      "                        'replacement blades?',\n",
      "                        'Do you need information on where to purchase '\n",
      "                        'replacement blades?']}\n"
     ]
    }
   ],
   "source": [
    "# Here's an example of basic streaming applied to different use cases:\n",
    "\n",
    "import openai\n",
    "import instructor\n",
    "import time\n",
    "from pprint import pprint\n",
    "from pydantic import BaseModel\n",
    "from IPython.display import clear_output\n",
    "\n",
    "client = instructor.from_openai(openai.OpenAI())\n",
    "\n",
    "\n",
    "class ChatResponse(BaseModel):\n",
    "    content: str\n",
    "    follow_up_question: list[str]\n",
    "\n",
    "\n",
    "reviews_data = \"\"\"\n",
    "<reviews>\n",
    "    <review>\n",
    "        <review_id>1</review_id>\n",
    "        <review_text>It is lightweight due to the carbon fiber handle, which is helpful for cutting small branches. I just wish the blade lasted longer. It was dull after about a week.</review_text>\n",
    "    </review>\n",
    "    <review>\n",
    "        <review_id>2</review_id>\n",
    "        <review_text>I like the quickchange system for replacing blades. It doesn't require tools.</review_text>\n",
    "    </review>\n",
    "    <review>\n",
    "        <review_id>3</review_id>\n",
    "        <review_text>You can operate on high speed or low speed. On low speed, the battery last forever.</review_text>\n",
    "    </review>\n",
    "    <review>\n",
    "        <review_id>4</review_id>\n",
    "        <review_text>The blades that came on it are sharp but lasted only a few hours. The replacement blades are better.</review_text>\n",
    "    </review>\n",
    "</reviews>\n",
    "\"\"\"\n",
    "\n",
    "resp = client.chat.completions.create_partial(\n",
    "    model=\"gpt-4o\",\n",
    "    messages=[\n",
    "        {\n",
    "            \"role\": \"system\",\n",
    "            \"content\": \"You are an assistant responding to a user question on a hardware store website.\",\n",
    "        },\n",
    "        {\n",
    "            \"role\": \"user\",\n",
    "            \"content\": f\"\"\"The user asked:\n",
    "How durable are the blades on this saw?\n",
    "         \n",
    "Here are some relevant user reviews:\n",
    "{reviews_data}\n",
    "\"\"\",\n",
    "        },\n",
    "    ],\n",
    "    response_model=ChatResponse,\n",
    "    stream=True,\n",
    ")\n",
    "\n",
    "for chunk in resp:\n",
    "    clear_output(wait=True)\n",
    "    pprint(chunk.model_dump())\n",
    "    time.sleep(0.05)"
   ]
  },
  {
   "cell_type": "markdown",
   "metadata": {},
   "source": [
    "## Citations"
   ]
  },
  {
   "cell_type": "code",
   "execution_count": 2,
   "metadata": {},
   "outputs": [
    {
     "name": "stdout",
     "output_type": "stream",
     "text": [
      "{'citations': [{'review_id': '1'}, {'review_id': '2'}, {'review_id': '3'}],\n",
      " 'content': 'The handsaw has several notable features. It is lightweight due '\n",
      "            'to the carbon fiber handle, which makes it easier to use for '\n",
      "            'cutting small branches [1]. Additionally, the quickchange system '\n",
      "            \"for replacing blades is very convenient as it doesn't require any \"\n",
      "            'tools [2]. Another useful feature is the ability to operate at '\n",
      "            'different speeds, with the low-speed setting allowing the battery '\n",
      "            'to last a long time [3].'}\n"
     ]
    }
   ],
   "source": [
    "class Citation(BaseModel):\n",
    "    review_id: str\n",
    "\n",
    "\n",
    "class ChatResponse(BaseModel):\n",
    "    content: str\n",
    "    citations: list[Citation]\n",
    "\n",
    "\n",
    "resp = client.chat.completions.create_partial(\n",
    "    model=\"gpt-4o\",\n",
    "    messages=[\n",
    "        {\n",
    "            \"role\": \"system\",\n",
    "            \"content\": \"You are a knowledgeable assistant. When providing information, cite your sources using markdown-like notation, e.g., [string](1), [string](2), etc.\",\n",
    "        },\n",
    "        {\n",
    "            \"role\": \"user\",\n",
    "            \"content\": f\"\"\"\n",
    "\n",
    "        Here are some relevant reviews from previous purchasers of a handsaw the user is asking about:\n",
    "        {reviews_data}\n",
    "        \n",
    "        <citation_examples>\n",
    "        To cite a source, use markdown-style link notation. For example: [relevant text](source number).\n",
    "        Citations should be integrated naturally within the sentence, not just appended at the end. \n",
    "        This approach ensures a smooth flow of information while providing proper attribution.\n",
    "        For instance: \"The [1980 'Miracle on Ice'](1) is considered one of the greatest upsets in Olympic history\" is preferable to \"There was a great upset in Olympic history. [Miracle on Ice](1)\".\n",
    "        </citation_examples>\n",
    "         \n",
    "         Answer the question using the sources provided. using markdown notation for citation\n",
    "         \"\"\",\n",
    "        },\n",
    "        {\"role\": \"user\", \"content\": \"What are the best features of this saw?\"},\n",
    "    ],\n",
    "    response_model=ChatResponse,\n",
    "    temperature=0.0,\n",
    "    stream=True,\n",
    ")\n",
    "\n",
    "for chunk in resp:\n",
    "    clear_output(wait=True)\n",
    "    pprint(chunk.model_dump())\n",
    "    time.sleep(0.1)"
   ]
  },
  {
   "cell_type": "markdown",
   "metadata": {},
   "source": [
    "## Streaming With Tools"
   ]
  },
  {
   "cell_type": "code",
   "execution_count": 3,
   "metadata": {},
   "outputs": [
    {
     "name": "stdout",
     "output_type": "stream",
     "text": [
      "{\n",
      "  \"query\": \"XYZ 3000 drill battery life\",\n",
      "  \"start_date\": \"2024-09-08\",\n",
      "  \"end_date\": \"2024-09-14\"\n",
      "}\n"
     ]
    }
   ],
   "source": [
    "from typing import Optional\n",
    "from pydantic import BaseModel\n",
    "\n",
    "\n",
    "class SearchQuery(BaseModel):\n",
    "    query: str\n",
    "    start_date: Optional[str]\n",
    "    end_date: Optional[str]\n",
    "\n",
    "\n",
    "resp = client.chat.completions.create_partial(\n",
    "    model=\"gpt-4o\",\n",
    "    messages=[\n",
    "        {\n",
    "            \"role\": \"system\",\n",
    "            \"content\": \"You are an AI assistant that understands and interprets search queries. Your task is to parse the user's input into a structured SearchQuery and provide an explanation of your interpretation. the date is 2024-09-15\",\n",
    "        },\n",
    "        {\n",
    "            \"role\": \"user\",\n",
    "            \"content\": \"Find documents about the XYZ 3000 drill's battery life from last week\",\n",
    "        },\n",
    "    ],\n",
    "    response_model=SearchQuery,\n",
    "    stream=True,\n",
    ")\n",
    "\n",
    "for chunk in resp:\n",
    "    clear_output(wait=True)\n",
    "    print(chunk.model_dump_json(indent=2))\n",
    "    time.sleep(0.1)"
   ]
  },
  {
   "cell_type": "code",
   "execution_count": null,
   "metadata": {},
   "outputs": [],
   "source": []
  }
 ],
 "metadata": {
  "kernelspec": {
   "display_name": ".venv",
   "language": "python",
   "name": "python3"
  },
  "language_info": {
   "codemirror_mode": {
    "name": "ipython",
    "version": 3
   },
   "file_extension": ".py",
   "mimetype": "text/x-python",
   "name": "python",
   "nbconvert_exporter": "python",
   "pygments_lexer": "ipython3",
   "version": "3.11.9"
  }
 },
 "nbformat": 4,
 "nbformat_minor": 2
}
